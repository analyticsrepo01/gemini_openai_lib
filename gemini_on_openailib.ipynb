{
 "cells": [
  {
   "cell_type": "code",
   "execution_count": 71,
   "id": "ca7f086d-654d-4693-abfe-cec388ea8292",
   "metadata": {
    "tags": []
   },
   "outputs": [],
   "source": [
    "# !pip install google-auth\n",
    "# !pip install requests"
   ]
  },
  {
   "cell_type": "code",
   "execution_count": 72,
   "id": "75c969d1-ef18-443b-b1eb-975d289f1eee",
   "metadata": {
    "scrolled": true,
    "tags": []
   },
   "outputs": [],
   "source": [
    "# %pip install openai\n",
    "# %pip install git+https://github.com/openai/swarm.git\n"
   ]
  },
  {
   "cell_type": "code",
   "execution_count": 73,
   "id": "e9c44661-475b-440a-8a63-7ef283e6ae7e",
   "metadata": {
    "tags": []
   },
   "outputs": [],
   "source": [
    "import re\n",
    "\n",
    "PROJECT_ID = !(gcloud config get-value core/project)\n",
    "PROJECT_ID = 'my-project-0004-346516'\n",
    "\n",
    "SVC_ACC = !(gcloud config get-value core/account)\n",
    "SVC_ACC = SVC_ACC[0]\n",
    "\n",
    "PROJECT_NUMBER=str(re.search(r'\\d+', SVC_ACC).group())\n",
    "\n",
    "LOCATION=\"asia-southeast1\"\n",
    "\n",
    "FOLDER_NAME=\".\""
   ]
  },
  {
   "cell_type": "code",
   "execution_count": 74,
   "id": "7e0f7208-4f49-43b7-8586-bb514fd493f0",
   "metadata": {
    "tags": []
   },
   "outputs": [
    {
     "name": "stdout",
     "output_type": "stream",
     "text": [
      "The sky is blue due to a phenomenon called **Rayleigh scattering**.  Sunlight is made up of all the colors of the rainbow.  When sunlight enters the Earth's atmosphere, it collides with tiny air molecules (mostly nitrogen and oxygen).  These molecules are much smaller than the wavelengths of visible light.\n",
      "\n",
      "Rayleigh scattering affects shorter wavelengths of light more strongly than longer wavelengths.  Blue and violet light have the shortest wavelengths, so they are scattered much more than red and orange light.  This scattered blue light is what we see when we look at the sky.\n",
      "\n",
      "While violet light is actually scattered *more* than blue light, our eyes are more sensitive to blue, and the sun emits slightly less violet light, resulting in a blue sky rather than a violet one.\n",
      "\n"
     ]
    }
   ],
   "source": [
    "import vertexai\n",
    "import openai\n",
    "\n",
    "from google.auth import default, transport\n",
    "\n",
    "vertexai.init(project=PROJECT_ID, location=LOCATION)\n",
    "\n",
    "# Programmatically get an access token\n",
    "credentials, _ = default(scopes=[\"https://www.googleapis.com/auth/cloud-platform\"])\n",
    "auth_request = transport.requests.Request()\n",
    "credentials.refresh(auth_request)\n",
    "\n",
    "# # OpenAI Client\n",
    "client = openai.OpenAI(\n",
    "    base_url=f\"https://{LOCATION}-aiplatform.googleapis.com/v1beta1/projects/{PROJECT_ID}/locations/{LOCATION}/endpoints/openapi\",\n",
    "    api_key=credentials.token,\n",
    ")\n",
    "\n",
    "response = client.chat.completions.create(\n",
    "    model=\"google/gemini-1.5-flash-002\",\n",
    "    messages=[{\"role\": \"user\", \"content\": \"Why is the sky blue?\"}],\n",
    ")\n",
    "\n",
    "print(response.choices[0].message.content)\n",
    "# Example response:\n",
    "# The sky is blue due to a phenomenon called **Rayleigh scattering**.\n",
    "# Sunlight is made up of all the colors of the rainbow.\n",
    "# As sunlight enters the Earth's atmosphere ..."
   ]
  },
  {
   "cell_type": "code",
   "execution_count": 80,
   "id": "91c706d3-969c-4e6d-8494-e74dbf417c67",
   "metadata": {
    "tags": []
   },
   "outputs": [
    {
     "name": "stdout",
     "output_type": "stream",
     "text": [
      "ya29.a0AeDClZC5nRCoiNvSPvfZgCzFNiCjdJ3fuiToXiq-f1GCN14Sgf7D9d4a2_x1K4wK-UQ2srSHiAji5XxBp0DfobiPul-0rLoLxVRth-BwOhwlXbvy7qOkvZ4G76A_Ab7fBvlbH16aArCrl4iR40RDMyUeHp7X-f6gZa87mfNbGgaCgYKAScSARESFQHGX2Mi668a9__bOsZVNd7Bw81N-A0177\n"
     ]
    }
   ],
   "source": [
    "print(credentials.token)"
   ]
  },
  {
   "cell_type": "markdown",
   "id": "6561b6d3-458a-400c-929b-10c87d049823",
   "metadata": {},
   "source": [
    "### Swarm config"
   ]
  },
  {
   "cell_type": "code",
   "execution_count": 75,
   "id": "074b8b7a-3b21-43d1-a422-71883dfb71f8",
   "metadata": {
    "tags": []
   },
   "outputs": [],
   "source": [
    "\n",
    "from openai import OpenAI\n",
    "from swarm import Swarm, Agent\n",
    "import gradio as gr\n",
    "\n",
    "# Initialize Swarm client\n",
    "ollama_client = OpenAI(\n",
    "    base_url=f\"https://{LOCATION}-aiplatform.googleapis.com/v1beta1/projects/{PROJECT_ID}/locations/{LOCATION}/endpoints/openapi\",\n",
    "    api_key=credentials.token, \n",
    ")\n"
   ]
  },
  {
   "cell_type": "code",
   "execution_count": 76,
   "id": "de65f7be-1d9e-4f27-9555-cb8bd3e9171d",
   "metadata": {
    "tags": []
   },
   "outputs": [],
   "source": [
    "from swarm import Swarm, Agent\n",
    "import os"
   ]
  },
  {
   "cell_type": "code",
   "execution_count": 77,
   "id": "ac376460-4da2-4078-ba50-acf31642c2d3",
   "metadata": {
    "tags": []
   },
   "outputs": [
    {
     "name": "stdout",
     "output_type": "stream",
     "text": [
      "The weather in Singapore right now is sunny, but it can change quickly.\n",
      "\n"
     ]
    }
   ],
   "source": [
    "\n",
    "# Define agent functions\n",
    "def get_weather(location, time=\"now\"):\n",
    "    # Function to get weather information\n",
    "    return f\"The weather in {location} at {time} is sunny but it can change quickly.\"\n",
    "def send_email(recipient, subject, body):\n",
    "    # Function to send an email\n",
    "    return \"Email sent successfully.\"\n",
    "# Define agents\n",
    "weather_agent = Agent(\n",
    "    name=\"Weather Agent\",\n",
    "    instructions=\"Provide weather updates.\",\n",
    "    functions=[get_weather, send_email],\n",
    "    model=\"google/gemini-1.5-flash-002\",\n",
    ")\n",
    "# Initialise Swarm client and run conversation\n",
    "# client = Swarm()\n",
    "client = Swarm(client=ollama_client)\n",
    "\n",
    "response = client.run(\n",
    "    agent=weather_agent,\n",
    "    messages=[{\"role\": \"user\", \"content\": \"What's the weather in Singapore ?\"}],\n",
    ")\n",
    "\n",
    "print(response.messages[-1][\"content\"])"
   ]
  },
  {
   "cell_type": "code",
   "execution_count": 78,
   "id": "38c78bc8-631a-44ee-8a1c-16d64737ec0b",
   "metadata": {
    "tags": []
   },
   "outputs": [
    {
     "name": "stdout",
     "output_type": "stream",
     "text": [
      "I'm sorry, I only speak English.  Could you please rephrase your question in English?\n",
      "\n"
     ]
    }
   ],
   "source": [
    "\n",
    "english_agent = Agent(\n",
    "    name=\"English Agent\",\n",
    "    instructions=\"You only speak English. transfer to other agent if needed\",\n",
    "    model=\"google/gemini-1.5-flash-002\"    \n",
    ")\n",
    "\n",
    "spanish_agent = Agent(\n",
    "    name=\"Spanish Agent\",\n",
    "    instructions=\"You only speak Spanish.\",\n",
    "    model=\"google/gemini-1.5-flash-002\",\n",
    ")\n",
    "\n",
    "\n",
    "def transfer_to_spanish_agent():\n",
    "    \"\"\"Transfer spanish speaking users immediately.\"\"\"\n",
    "    return spanish_agent\n",
    "\n",
    "\n",
    "english_agent.functions.append(transfer_to_spanish_agent)\n",
    "\n",
    "messages = [{\"role\": \"user\", \"content\": \"Hola. ¿Como estás?\"}]\n",
    "response = client.run(agent=english_agent, messages=messages)\n",
    "\n",
    "print(response.messages[-1][\"content\"])"
   ]
  },
  {
   "cell_type": "code",
   "execution_count": 79,
   "id": "18bb1158-eb3d-4e22-914c-3ab7471a0ee3",
   "metadata": {
    "tags": []
   },
   "outputs": [
    {
     "name": "stdout",
     "output_type": "stream",
     "text": [
      "¡Hola! Bien, gracias, ¿y tú?\n",
      "\n"
     ]
    }
   ],
   "source": [
    "messages = [{\"role\": \"user\", \"content\": \"Hola. ¿Como estás?\"}]\n",
    "response = client.run(agent=spanish_agent, messages=messages)\n",
    "\n",
    "print(response.messages[-1][\"content\"])"
   ]
  },
  {
   "cell_type": "code",
   "execution_count": null,
   "id": "eeebc801-ede0-42cb-b719-4b999a1dabba",
   "metadata": {},
   "outputs": [],
   "source": []
  }
 ],
 "metadata": {
  "environment": {
   "kernel": "conda-base-py312",
   "name": "workbench-notebooks.m125",
   "type": "gcloud",
   "uri": "us-docker.pkg.dev/deeplearning-platform-release/gcr.io/workbench-notebooks:m125"
  },
  "kernelspec": {
   "display_name": "py312 (Local)",
   "language": "python",
   "name": "conda-base-py312"
  },
  "language_info": {
   "codemirror_mode": {
    "name": "ipython",
    "version": 3
   },
   "file_extension": ".py",
   "mimetype": "text/x-python",
   "name": "python",
   "nbconvert_exporter": "python",
   "pygments_lexer": "ipython3",
   "version": "3.10.15"
  }
 },
 "nbformat": 4,
 "nbformat_minor": 5
}
